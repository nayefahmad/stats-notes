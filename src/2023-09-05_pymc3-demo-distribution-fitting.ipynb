{
 "cells": [
  {
   "cell_type": "markdown",
   "source": [
    "# pymc3 Demo: Distribution fitting "
   ],
   "metadata": {
    "collapsed": false
   },
   "id": "7aa3a5bbe2a124b7"
  },
  {
   "cell_type": "code",
   "execution_count": 4,
   "id": "initial_id",
   "metadata": {
    "collapsed": true,
    "ExecuteTime": {
     "end_time": "2023-09-06T06:34:34.604559400Z",
     "start_time": "2023-09-06T06:34:34.580562700Z"
    }
   },
   "outputs": [
    {
     "name": "stdout",
     "output_type": "stream",
     "text": [
      "C:\\Nayef\\stats-notes\\.venv\\Scripts\\python.exe\n"
     ]
    }
   ],
   "source": [
    "import sys\n",
    "print(sys.executable)"
   ]
  },
  {
   "cell_type": "code",
   "execution_count": 5,
   "outputs": [
    {
     "name": "stdout",
     "output_type": "stream",
     "text": [
      "WARN: Could not locate executable g77\n",
      "WARN: Could not locate executable f77\n",
      "WARN: Could not locate executable ifort\n",
      "WARN: Could not locate executable ifl\n",
      "WARN: Could not locate executable f90\n",
      "WARN: Could not locate executable DF\n",
      "WARN: Could not locate executable efl\n",
      "WARN: Could not locate executable gfortran\n",
      "WARN: Could not locate executable f95\n",
      "WARN: Could not locate executable g95\n",
      "WARN: Could not locate executable efort\n",
      "WARN: Could not locate executable efc\n",
      "WARN: Could not locate executable flang\n",
      "WARN: don't know how to compile Fortran code on platform 'nt'\n"
     ]
    },
    {
     "name": "stderr",
     "output_type": "stream",
     "text": [
      "WARNING (theano.configdefaults): g++ not available, if using conda: `conda install m2w64-toolchain`\n",
      "WARNING (theano.configdefaults): g++ not detected ! Theano will be unable to execute optimized C-implementations (for both CPU and GPU) and will default to Python implementations. Performance will be severely degraded. To remove this warning, set Theano flags cxx to an empty string.\n",
      "WARNING (theano.tensor.blas): Using NumPy C-API based implementation for BLAS functions.\n"
     ]
    },
    {
     "ename": "ContextualVersionConflict",
     "evalue": "(scipy 1.9.3 (c:\\nayef\\stats-notes\\.venv\\lib\\site-packages), Requirement.parse('scipy<1.8.0,>=1.7.3'), {'pymc3'})",
     "output_type": "error",
     "traceback": [
      "\u001B[1;31m---------------------------------------------------------------------------\u001B[0m",
      "\u001B[1;31mContextualVersionConflict\u001B[0m                 Traceback (most recent call last)",
      "Cell \u001B[1;32mIn[5], line 1\u001B[0m\n\u001B[1;32m----> 1\u001B[0m \u001B[38;5;28;01mimport\u001B[39;00m \u001B[38;5;21;01mpymc3\u001B[39;00m \u001B[38;5;28;01mas\u001B[39;00m \u001B[38;5;21;01mpm\u001B[39;00m\n",
      "File \u001B[1;32mC:\\Nayef\\stats-notes\\.venv\\lib\\site-packages\\pymc3\\__init__.py:115\u001B[0m\n\u001B[0;32m    112\u001B[0m __set_compiler_flags()\n\u001B[0;32m    113\u001B[0m _hotfix_theano_printing()\n\u001B[1;32m--> 115\u001B[0m \u001B[38;5;28;01mfrom\u001B[39;00m \u001B[38;5;21;01mpymc3\u001B[39;00m \u001B[38;5;28;01mimport\u001B[39;00m gp, ode, sampling\n\u001B[0;32m    116\u001B[0m \u001B[38;5;28;01mfrom\u001B[39;00m \u001B[38;5;21;01mpymc3\u001B[39;00m\u001B[38;5;21;01m.\u001B[39;00m\u001B[38;5;21;01mbackends\u001B[39;00m \u001B[38;5;28;01mimport\u001B[39;00m load_trace, save_trace\n\u001B[0;32m    117\u001B[0m \u001B[38;5;28;01mfrom\u001B[39;00m \u001B[38;5;21;01mpymc3\u001B[39;00m\u001B[38;5;21;01m.\u001B[39;00m\u001B[38;5;21;01mbackends\u001B[39;00m\u001B[38;5;21;01m.\u001B[39;00m\u001B[38;5;21;01mtracetab\u001B[39;00m \u001B[38;5;28;01mimport\u001B[39;00m \u001B[38;5;241m*\u001B[39m\n",
      "File \u001B[1;32mC:\\Nayef\\stats-notes\\.venv\\lib\\site-packages\\pymc3\\gp\\__init__.py:16\u001B[0m\n\u001B[0;32m      1\u001B[0m \u001B[38;5;66;03m#   Copyright 2020 The PyMC Developers\u001B[39;00m\n\u001B[0;32m      2\u001B[0m \u001B[38;5;66;03m#\u001B[39;00m\n\u001B[0;32m      3\u001B[0m \u001B[38;5;66;03m#   Licensed under the Apache License, Version 2.0 (the \"License\");\u001B[39;00m\n\u001B[1;32m   (...)\u001B[0m\n\u001B[0;32m     12\u001B[0m \u001B[38;5;66;03m#   See the License for the specific language governing permissions and\u001B[39;00m\n\u001B[0;32m     13\u001B[0m \u001B[38;5;66;03m#   limitations under the License.\u001B[39;00m\n\u001B[0;32m     15\u001B[0m \u001B[38;5;28;01mfrom\u001B[39;00m \u001B[38;5;21;01mpymc3\u001B[39;00m\u001B[38;5;21;01m.\u001B[39;00m\u001B[38;5;21;01mgp\u001B[39;00m \u001B[38;5;28;01mimport\u001B[39;00m cov, mean, util\n\u001B[1;32m---> 16\u001B[0m \u001B[38;5;28;01mfrom\u001B[39;00m \u001B[38;5;21;01mpymc3\u001B[39;00m\u001B[38;5;21;01m.\u001B[39;00m\u001B[38;5;21;01mgp\u001B[39;00m\u001B[38;5;21;01m.\u001B[39;00m\u001B[38;5;21;01mgp\u001B[39;00m \u001B[38;5;28;01mimport\u001B[39;00m TP, Latent, LatentKron, Marginal, MarginalKron, MarginalSparse\n",
      "File \u001B[1;32mC:\\Nayef\\stats-notes\\.venv\\lib\\site-packages\\pymc3\\gp\\gp.py:25\u001B[0m\n\u001B[0;32m     21\u001B[0m \u001B[38;5;28;01mfrom\u001B[39;00m \u001B[38;5;21;01mtheano\u001B[39;00m\u001B[38;5;21;01m.\u001B[39;00m\u001B[38;5;21;01mtensor\u001B[39;00m\u001B[38;5;21;01m.\u001B[39;00m\u001B[38;5;21;01mnlinalg\u001B[39;00m \u001B[38;5;28;01mimport\u001B[39;00m eigh\n\u001B[0;32m     23\u001B[0m \u001B[38;5;28;01mimport\u001B[39;00m \u001B[38;5;21;01mpymc3\u001B[39;00m \u001B[38;5;28;01mas\u001B[39;00m \u001B[38;5;21;01mpm\u001B[39;00m\n\u001B[1;32m---> 25\u001B[0m \u001B[38;5;28;01mfrom\u001B[39;00m \u001B[38;5;21;01mpymc3\u001B[39;00m\u001B[38;5;21;01m.\u001B[39;00m\u001B[38;5;21;01mdistributions\u001B[39;00m \u001B[38;5;28;01mimport\u001B[39;00m draw_values\n\u001B[0;32m     26\u001B[0m \u001B[38;5;28;01mfrom\u001B[39;00m \u001B[38;5;21;01mpymc3\u001B[39;00m\u001B[38;5;21;01m.\u001B[39;00m\u001B[38;5;21;01mgp\u001B[39;00m\u001B[38;5;21;01m.\u001B[39;00m\u001B[38;5;21;01mcov\u001B[39;00m \u001B[38;5;28;01mimport\u001B[39;00m Constant, Covariance\n\u001B[0;32m     27\u001B[0m \u001B[38;5;28;01mfrom\u001B[39;00m \u001B[38;5;21;01mpymc3\u001B[39;00m\u001B[38;5;21;01m.\u001B[39;00m\u001B[38;5;21;01mgp\u001B[39;00m\u001B[38;5;21;01m.\u001B[39;00m\u001B[38;5;21;01mmean\u001B[39;00m \u001B[38;5;28;01mimport\u001B[39;00m Zero\n",
      "File \u001B[1;32mC:\\Nayef\\stats-notes\\.venv\\lib\\site-packages\\pymc3\\distributions\\__init__.py:15\u001B[0m\n\u001B[0;32m      1\u001B[0m \u001B[38;5;66;03m#   Copyright 2020 The PyMC Developers\u001B[39;00m\n\u001B[0;32m      2\u001B[0m \u001B[38;5;66;03m#\u001B[39;00m\n\u001B[0;32m      3\u001B[0m \u001B[38;5;66;03m#   Licensed under the Apache License, Version 2.0 (the \"License\");\u001B[39;00m\n\u001B[1;32m   (...)\u001B[0m\n\u001B[0;32m     12\u001B[0m \u001B[38;5;66;03m#   See the License for the specific language governing permissions and\u001B[39;00m\n\u001B[0;32m     13\u001B[0m \u001B[38;5;66;03m#   limitations under the License.\u001B[39;00m\n\u001B[1;32m---> 15\u001B[0m \u001B[38;5;28;01mfrom\u001B[39;00m \u001B[38;5;21;01mpymc3\u001B[39;00m\u001B[38;5;21;01m.\u001B[39;00m\u001B[38;5;21;01mdistributions\u001B[39;00m \u001B[38;5;28;01mimport\u001B[39;00m shape_utils, timeseries, transforms\n\u001B[0;32m     16\u001B[0m \u001B[38;5;28;01mfrom\u001B[39;00m \u001B[38;5;21;01mpymc3\u001B[39;00m\u001B[38;5;21;01m.\u001B[39;00m\u001B[38;5;21;01mdistributions\u001B[39;00m\u001B[38;5;21;01m.\u001B[39;00m\u001B[38;5;21;01mbart\u001B[39;00m \u001B[38;5;28;01mimport\u001B[39;00m BART\n\u001B[0;32m     17\u001B[0m \u001B[38;5;28;01mfrom\u001B[39;00m \u001B[38;5;21;01mpymc3\u001B[39;00m\u001B[38;5;21;01m.\u001B[39;00m\u001B[38;5;21;01mdistributions\u001B[39;00m\u001B[38;5;21;01m.\u001B[39;00m\u001B[38;5;21;01mbound\u001B[39;00m \u001B[38;5;28;01mimport\u001B[39;00m Bound\n",
      "File \u001B[1;32mC:\\Nayef\\stats-notes\\.venv\\lib\\site-packages\\pymc3\\distributions\\timeseries.py:21\u001B[0m\n\u001B[0;32m     18\u001B[0m \u001B[38;5;28;01mfrom\u001B[39;00m \u001B[38;5;21;01mscipy\u001B[39;00m \u001B[38;5;28;01mimport\u001B[39;00m stats\n\u001B[0;32m     19\u001B[0m \u001B[38;5;28;01mfrom\u001B[39;00m \u001B[38;5;21;01mtheano\u001B[39;00m \u001B[38;5;28;01mimport\u001B[39;00m scan\n\u001B[1;32m---> 21\u001B[0m \u001B[38;5;28;01mfrom\u001B[39;00m \u001B[38;5;21;01mpymc3\u001B[39;00m\u001B[38;5;21;01m.\u001B[39;00m\u001B[38;5;21;01mdistributions\u001B[39;00m \u001B[38;5;28;01mimport\u001B[39;00m distribution, multivariate\n\u001B[0;32m     22\u001B[0m \u001B[38;5;28;01mfrom\u001B[39;00m \u001B[38;5;21;01mpymc3\u001B[39;00m\u001B[38;5;21;01m.\u001B[39;00m\u001B[38;5;21;01mdistributions\u001B[39;00m\u001B[38;5;21;01m.\u001B[39;00m\u001B[38;5;21;01mcontinuous\u001B[39;00m \u001B[38;5;28;01mimport\u001B[39;00m Flat, Normal, get_tau_sigma\n\u001B[0;32m     23\u001B[0m \u001B[38;5;28;01mfrom\u001B[39;00m \u001B[38;5;21;01mpymc3\u001B[39;00m\u001B[38;5;21;01m.\u001B[39;00m\u001B[38;5;21;01mdistributions\u001B[39;00m\u001B[38;5;21;01m.\u001B[39;00m\u001B[38;5;21;01mshape_utils\u001B[39;00m \u001B[38;5;28;01mimport\u001B[39;00m to_tuple\n",
      "File \u001B[1;32mC:\\Nayef\\stats-notes\\.venv\\lib\\site-packages\\pymc3\\distributions\\distribution.py:45\u001B[0m\n\u001B[0;32m     38\u001B[0m \u001B[38;5;28;01mfrom\u001B[39;00m \u001B[38;5;21;01mtheano\u001B[39;00m \u001B[38;5;28;01mimport\u001B[39;00m function\n\u001B[0;32m     40\u001B[0m \u001B[38;5;28;01mfrom\u001B[39;00m \u001B[38;5;21;01mpymc3\u001B[39;00m\u001B[38;5;21;01m.\u001B[39;00m\u001B[38;5;21;01mdistributions\u001B[39;00m\u001B[38;5;21;01m.\u001B[39;00m\u001B[38;5;21;01mshape_utils\u001B[39;00m \u001B[38;5;28;01mimport\u001B[39;00m (\n\u001B[0;32m     41\u001B[0m     broadcast_dist_samples_shape,\n\u001B[0;32m     42\u001B[0m     get_broadcastable_dist_samples,\n\u001B[0;32m     43\u001B[0m     to_tuple,\n\u001B[0;32m     44\u001B[0m )\n\u001B[1;32m---> 45\u001B[0m \u001B[38;5;28;01mfrom\u001B[39;00m \u001B[38;5;21;01mpymc3\u001B[39;00m\u001B[38;5;21;01m.\u001B[39;00m\u001B[38;5;21;01mmodel\u001B[39;00m \u001B[38;5;28;01mimport\u001B[39;00m (\n\u001B[0;32m     46\u001B[0m     ContextMeta,\n\u001B[0;32m     47\u001B[0m     FreeRV,\n\u001B[0;32m     48\u001B[0m     Model,\n\u001B[0;32m     49\u001B[0m     MultiObservedRV,\n\u001B[0;32m     50\u001B[0m     ObservedRV,\n\u001B[0;32m     51\u001B[0m     build_named_node_tree,\n\u001B[0;32m     52\u001B[0m )\n\u001B[0;32m     53\u001B[0m \u001B[38;5;28;01mfrom\u001B[39;00m \u001B[38;5;21;01mpymc3\u001B[39;00m\u001B[38;5;21;01m.\u001B[39;00m\u001B[38;5;21;01mutil\u001B[39;00m \u001B[38;5;28;01mimport\u001B[39;00m get_repr_for_variable, get_var_name, hash_key\n\u001B[0;32m     54\u001B[0m \u001B[38;5;28;01mfrom\u001B[39;00m \u001B[38;5;21;01mpymc3\u001B[39;00m\u001B[38;5;21;01m.\u001B[39;00m\u001B[38;5;21;01mvartypes\u001B[39;00m \u001B[38;5;28;01mimport\u001B[39;00m string_types, theano_constant\n",
      "File \u001B[1;32mC:\\Nayef\\stats-notes\\.venv\\lib\\site-packages\\pymc3\\model.py:38\u001B[0m\n\u001B[0;32m     34\u001B[0m \u001B[38;5;28;01mfrom\u001B[39;00m \u001B[38;5;21;01mtheano\u001B[39;00m\u001B[38;5;21;01m.\u001B[39;00m\u001B[38;5;21;01mtensor\u001B[39;00m\u001B[38;5;21;01m.\u001B[39;00m\u001B[38;5;21;01mvar\u001B[39;00m \u001B[38;5;28;01mimport\u001B[39;00m TensorVariable\n\u001B[0;32m     36\u001B[0m \u001B[38;5;28;01mimport\u001B[39;00m \u001B[38;5;21;01mpymc3\u001B[39;00m \u001B[38;5;28;01mas\u001B[39;00m \u001B[38;5;21;01mpm\u001B[39;00m\n\u001B[1;32m---> 38\u001B[0m \u001B[38;5;28;01mfrom\u001B[39;00m \u001B[38;5;21;01mpymc3\u001B[39;00m\u001B[38;5;21;01m.\u001B[39;00m\u001B[38;5;21;01mblocking\u001B[39;00m \u001B[38;5;28;01mimport\u001B[39;00m ArrayOrdering, DictToArrayBijection\n\u001B[0;32m     39\u001B[0m \u001B[38;5;28;01mfrom\u001B[39;00m \u001B[38;5;21;01mpymc3\u001B[39;00m\u001B[38;5;21;01m.\u001B[39;00m\u001B[38;5;21;01mexceptions\u001B[39;00m \u001B[38;5;28;01mimport\u001B[39;00m ImputationWarning\n\u001B[0;32m     40\u001B[0m \u001B[38;5;28;01mfrom\u001B[39;00m \u001B[38;5;21;01mpymc3\u001B[39;00m\u001B[38;5;21;01m.\u001B[39;00m\u001B[38;5;21;01mtheanof\u001B[39;00m \u001B[38;5;28;01mimport\u001B[39;00m floatX, generator, gradient, hessian, inputvars\n",
      "File \u001B[1;32mC:\\Nayef\\stats-notes\\.venv\\lib\\site-packages\\pymc3\\blocking.py:25\u001B[0m\n\u001B[0;32m     21\u001B[0m \u001B[38;5;28;01mimport\u001B[39;00m \u001B[38;5;21;01mcopy\u001B[39;00m\n\u001B[0;32m     23\u001B[0m \u001B[38;5;28;01mimport\u001B[39;00m \u001B[38;5;21;01mnumpy\u001B[39;00m \u001B[38;5;28;01mas\u001B[39;00m \u001B[38;5;21;01mnp\u001B[39;00m\n\u001B[1;32m---> 25\u001B[0m \u001B[38;5;28;01mfrom\u001B[39;00m \u001B[38;5;21;01mpymc3\u001B[39;00m\u001B[38;5;21;01m.\u001B[39;00m\u001B[38;5;21;01mutil\u001B[39;00m \u001B[38;5;28;01mimport\u001B[39;00m get_var_name\n\u001B[0;32m     27\u001B[0m __all__ \u001B[38;5;241m=\u001B[39m [\u001B[38;5;124m\"\u001B[39m\u001B[38;5;124mArrayOrdering\u001B[39m\u001B[38;5;124m\"\u001B[39m, \u001B[38;5;124m\"\u001B[39m\u001B[38;5;124mDictToArrayBijection\u001B[39m\u001B[38;5;124m\"\u001B[39m, \u001B[38;5;124m\"\u001B[39m\u001B[38;5;124mDictToVarBijection\u001B[39m\u001B[38;5;124m\"\u001B[39m]\n\u001B[0;32m     29\u001B[0m VarMap \u001B[38;5;241m=\u001B[39m collections\u001B[38;5;241m.\u001B[39mnamedtuple(\u001B[38;5;124m\"\u001B[39m\u001B[38;5;124mVarMap\u001B[39m\u001B[38;5;124m\"\u001B[39m, \u001B[38;5;124m\"\u001B[39m\u001B[38;5;124mvar, slc, shp, dtyp\u001B[39m\u001B[38;5;124m\"\u001B[39m)\n",
      "File \u001B[1;32mC:\\Nayef\\stats-notes\\.venv\\lib\\site-packages\\pymc3\\util.py:21\u001B[0m\n\u001B[0;32m     17\u001B[0m \u001B[38;5;28;01mimport\u001B[39;00m \u001B[38;5;21;01mwarnings\u001B[39;00m\n\u001B[0;32m     19\u001B[0m \u001B[38;5;28;01mfrom\u001B[39;00m \u001B[38;5;21;01mtyping\u001B[39;00m \u001B[38;5;28;01mimport\u001B[39;00m Dict, List, Tuple, Union\n\u001B[1;32m---> 21\u001B[0m \u001B[38;5;28;01mimport\u001B[39;00m \u001B[38;5;21;01marviz\u001B[39;00m\n\u001B[0;32m     22\u001B[0m \u001B[38;5;28;01mimport\u001B[39;00m \u001B[38;5;21;01mdill\u001B[39;00m\n\u001B[0;32m     23\u001B[0m \u001B[38;5;28;01mimport\u001B[39;00m \u001B[38;5;21;01mnumpy\u001B[39;00m \u001B[38;5;28;01mas\u001B[39;00m \u001B[38;5;21;01mnp\u001B[39;00m\n",
      "File \u001B[1;32mC:\\Nayef\\stats-notes\\.venv\\lib\\site-packages\\arviz\\__init__.py:32\u001B[0m\n\u001B[0;32m     26\u001B[0m         \u001B[38;5;28msuper\u001B[39m()\u001B[38;5;241m.\u001B[39m_log(level, msg, \u001B[38;5;241m*\u001B[39margs, \u001B[38;5;241m*\u001B[39m\u001B[38;5;241m*\u001B[39mkwargs)\n\u001B[0;32m     29\u001B[0m _log \u001B[38;5;241m=\u001B[39m Logger(\u001B[38;5;124m\"\u001B[39m\u001B[38;5;124marviz\u001B[39m\u001B[38;5;124m\"\u001B[39m)\n\u001B[1;32m---> 32\u001B[0m \u001B[38;5;28;01mfrom\u001B[39;00m \u001B[38;5;21;01m.\u001B[39;00m\u001B[38;5;21;01mdata\u001B[39;00m \u001B[38;5;28;01mimport\u001B[39;00m \u001B[38;5;241m*\u001B[39m\n\u001B[0;32m     33\u001B[0m \u001B[38;5;28;01mfrom\u001B[39;00m \u001B[38;5;21;01m.\u001B[39;00m\u001B[38;5;21;01mplots\u001B[39;00m \u001B[38;5;28;01mimport\u001B[39;00m \u001B[38;5;241m*\u001B[39m\n\u001B[0;32m     34\u001B[0m \u001B[38;5;28;01mfrom\u001B[39;00m \u001B[38;5;21;01m.\u001B[39;00m\u001B[38;5;21;01mplots\u001B[39;00m\u001B[38;5;21;01m.\u001B[39;00m\u001B[38;5;21;01mbackends\u001B[39;00m \u001B[38;5;28;01mimport\u001B[39;00m \u001B[38;5;241m*\u001B[39m\n",
      "File \u001B[1;32mC:\\Nayef\\stats-notes\\.venv\\lib\\site-packages\\arviz\\data\\__init__.py:3\u001B[0m\n\u001B[0;32m      1\u001B[0m \u001B[38;5;124;03m\"\"\"Code for loading and manipulating data structures.\"\"\"\u001B[39;00m\n\u001B[0;32m      2\u001B[0m \u001B[38;5;28;01mfrom\u001B[39;00m \u001B[38;5;21;01m.\u001B[39;00m\u001B[38;5;21;01mbase\u001B[39;00m \u001B[38;5;28;01mimport\u001B[39;00m CoordSpec, DimSpec, dict_to_dataset, numpy_to_data_array\n\u001B[1;32m----> 3\u001B[0m \u001B[38;5;28;01mfrom\u001B[39;00m \u001B[38;5;21;01m.\u001B[39;00m\u001B[38;5;21;01mconverters\u001B[39;00m \u001B[38;5;28;01mimport\u001B[39;00m convert_to_dataset, convert_to_inference_data\n\u001B[0;32m      4\u001B[0m \u001B[38;5;28;01mfrom\u001B[39;00m \u001B[38;5;21;01m.\u001B[39;00m\u001B[38;5;21;01mdatasets\u001B[39;00m \u001B[38;5;28;01mimport\u001B[39;00m clear_data_home, list_datasets, load_arviz_data\n\u001B[0;32m      5\u001B[0m \u001B[38;5;28;01mfrom\u001B[39;00m \u001B[38;5;21;01m.\u001B[39;00m\u001B[38;5;21;01minference_data\u001B[39;00m \u001B[38;5;28;01mimport\u001B[39;00m InferenceData, concat\n",
      "File \u001B[1;32mC:\\Nayef\\stats-notes\\.venv\\lib\\site-packages\\arviz\\data\\converters.py:11\u001B[0m\n\u001B[0;32m      9\u001B[0m \u001B[38;5;28;01mfrom\u001B[39;00m \u001B[38;5;21;01m.\u001B[39;00m\u001B[38;5;21;01mio_emcee\u001B[39;00m \u001B[38;5;28;01mimport\u001B[39;00m from_emcee\n\u001B[0;32m     10\u001B[0m \u001B[38;5;28;01mfrom\u001B[39;00m \u001B[38;5;21;01m.\u001B[39;00m\u001B[38;5;21;01mio_numpyro\u001B[39;00m \u001B[38;5;28;01mimport\u001B[39;00m from_numpyro\n\u001B[1;32m---> 11\u001B[0m \u001B[38;5;28;01mfrom\u001B[39;00m \u001B[38;5;21;01m.\u001B[39;00m\u001B[38;5;21;01mio_pymc3\u001B[39;00m \u001B[38;5;28;01mimport\u001B[39;00m from_pymc3\n\u001B[0;32m     12\u001B[0m \u001B[38;5;28;01mfrom\u001B[39;00m \u001B[38;5;21;01m.\u001B[39;00m\u001B[38;5;21;01mio_pyro\u001B[39;00m \u001B[38;5;28;01mimport\u001B[39;00m from_pyro\n\u001B[0;32m     13\u001B[0m \u001B[38;5;28;01mfrom\u001B[39;00m \u001B[38;5;21;01m.\u001B[39;00m\u001B[38;5;21;01mio_pystan\u001B[39;00m \u001B[38;5;28;01mimport\u001B[39;00m from_pystan\n",
      "File \u001B[1;32mC:\\Nayef\\stats-notes\\.venv\\lib\\site-packages\\arviz\\data\\io_pymc3.py:9\u001B[0m\n\u001B[0;32m      6\u001B[0m __all__ \u001B[38;5;241m=\u001B[39m [\u001B[38;5;124m\"\u001B[39m\u001B[38;5;124mfrom_pymc3\u001B[39m\u001B[38;5;124m\"\u001B[39m, \u001B[38;5;124m\"\u001B[39m\u001B[38;5;124mfrom_pymc3_predictions\u001B[39m\u001B[38;5;124m\"\u001B[39m]\n\u001B[0;32m      8\u001B[0m \u001B[38;5;28;01mtry\u001B[39;00m:\n\u001B[1;32m----> 9\u001B[0m     pymc3_version \u001B[38;5;241m=\u001B[39m \u001B[43mpkg_resources\u001B[49m\u001B[38;5;241;43m.\u001B[39;49m\u001B[43mget_distribution\u001B[49m\u001B[43m(\u001B[49m\u001B[38;5;124;43m\"\u001B[39;49m\u001B[38;5;124;43mpymc3\u001B[39;49m\u001B[38;5;124;43m\"\u001B[39;49m\u001B[43m)\u001B[49m\u001B[38;5;241m.\u001B[39mversion\n\u001B[0;32m     10\u001B[0m     PYMC3_V4 \u001B[38;5;241m=\u001B[39m packaging\u001B[38;5;241m.\u001B[39mversion\u001B[38;5;241m.\u001B[39mparse(pymc3_version) \u001B[38;5;241m>\u001B[39m\u001B[38;5;241m=\u001B[39m packaging\u001B[38;5;241m.\u001B[39mversion\u001B[38;5;241m.\u001B[39mparse(\u001B[38;5;124m\"\u001B[39m\u001B[38;5;124m4.0\u001B[39m\u001B[38;5;124m\"\u001B[39m)\n\u001B[0;32m     11\u001B[0m \u001B[38;5;28;01mexcept\u001B[39;00m pkg_resources\u001B[38;5;241m.\u001B[39mDistributionNotFound:\n",
      "File \u001B[1;32mC:\\Nayef\\stats-notes\\.venv\\lib\\site-packages\\pkg_resources\\__init__.py:478\u001B[0m, in \u001B[0;36mget_distribution\u001B[1;34m(dist)\u001B[0m\n\u001B[0;32m    476\u001B[0m     dist \u001B[38;5;241m=\u001B[39m Requirement\u001B[38;5;241m.\u001B[39mparse(dist)\n\u001B[0;32m    477\u001B[0m \u001B[38;5;28;01mif\u001B[39;00m \u001B[38;5;28misinstance\u001B[39m(dist, Requirement):\n\u001B[1;32m--> 478\u001B[0m     dist \u001B[38;5;241m=\u001B[39m \u001B[43mget_provider\u001B[49m\u001B[43m(\u001B[49m\u001B[43mdist\u001B[49m\u001B[43m)\u001B[49m\n\u001B[0;32m    479\u001B[0m \u001B[38;5;28;01mif\u001B[39;00m \u001B[38;5;129;01mnot\u001B[39;00m \u001B[38;5;28misinstance\u001B[39m(dist, Distribution):\n\u001B[0;32m    480\u001B[0m     \u001B[38;5;28;01mraise\u001B[39;00m \u001B[38;5;167;01mTypeError\u001B[39;00m(\u001B[38;5;124m\"\u001B[39m\u001B[38;5;124mExpected string, Requirement, or Distribution\u001B[39m\u001B[38;5;124m\"\u001B[39m, dist)\n",
      "File \u001B[1;32mC:\\Nayef\\stats-notes\\.venv\\lib\\site-packages\\pkg_resources\\__init__.py:354\u001B[0m, in \u001B[0;36mget_provider\u001B[1;34m(moduleOrReq)\u001B[0m\n\u001B[0;32m    352\u001B[0m \u001B[38;5;124;03m\"\"\"Return an IResourceProvider for the named module or requirement\"\"\"\u001B[39;00m\n\u001B[0;32m    353\u001B[0m \u001B[38;5;28;01mif\u001B[39;00m \u001B[38;5;28misinstance\u001B[39m(moduleOrReq, Requirement):\n\u001B[1;32m--> 354\u001B[0m     \u001B[38;5;28;01mreturn\u001B[39;00m working_set\u001B[38;5;241m.\u001B[39mfind(moduleOrReq) \u001B[38;5;129;01mor\u001B[39;00m \u001B[43mrequire\u001B[49m\u001B[43m(\u001B[49m\u001B[38;5;28;43mstr\u001B[39;49m\u001B[43m(\u001B[49m\u001B[43mmoduleOrReq\u001B[49m\u001B[43m)\u001B[49m\u001B[43m)\u001B[49m[\u001B[38;5;241m0\u001B[39m]\n\u001B[0;32m    355\u001B[0m \u001B[38;5;28;01mtry\u001B[39;00m:\n\u001B[0;32m    356\u001B[0m     module \u001B[38;5;241m=\u001B[39m sys\u001B[38;5;241m.\u001B[39mmodules[moduleOrReq]\n",
      "File \u001B[1;32mC:\\Nayef\\stats-notes\\.venv\\lib\\site-packages\\pkg_resources\\__init__.py:909\u001B[0m, in \u001B[0;36mWorkingSet.require\u001B[1;34m(self, *requirements)\u001B[0m\n\u001B[0;32m    900\u001B[0m \u001B[38;5;28;01mdef\u001B[39;00m \u001B[38;5;21mrequire\u001B[39m(\u001B[38;5;28mself\u001B[39m, \u001B[38;5;241m*\u001B[39mrequirements):\n\u001B[0;32m    901\u001B[0m     \u001B[38;5;124;03m\"\"\"Ensure that distributions matching `requirements` are activated\u001B[39;00m\n\u001B[0;32m    902\u001B[0m \n\u001B[0;32m    903\u001B[0m \u001B[38;5;124;03m    `requirements` must be a string or a (possibly-nested) sequence\u001B[39;00m\n\u001B[1;32m   (...)\u001B[0m\n\u001B[0;32m    907\u001B[0m \u001B[38;5;124;03m    included, even if they were already activated in this working set.\u001B[39;00m\n\u001B[0;32m    908\u001B[0m \u001B[38;5;124;03m    \"\"\"\u001B[39;00m\n\u001B[1;32m--> 909\u001B[0m     needed \u001B[38;5;241m=\u001B[39m \u001B[38;5;28;43mself\u001B[39;49m\u001B[38;5;241;43m.\u001B[39;49m\u001B[43mresolve\u001B[49m\u001B[43m(\u001B[49m\u001B[43mparse_requirements\u001B[49m\u001B[43m(\u001B[49m\u001B[43mrequirements\u001B[49m\u001B[43m)\u001B[49m\u001B[43m)\u001B[49m\n\u001B[0;32m    911\u001B[0m     \u001B[38;5;28;01mfor\u001B[39;00m dist \u001B[38;5;129;01min\u001B[39;00m needed:\n\u001B[0;32m    912\u001B[0m         \u001B[38;5;28mself\u001B[39m\u001B[38;5;241m.\u001B[39madd(dist)\n",
      "File \u001B[1;32mC:\\Nayef\\stats-notes\\.venv\\lib\\site-packages\\pkg_resources\\__init__.py:800\u001B[0m, in \u001B[0;36mWorkingSet.resolve\u001B[1;34m(self, requirements, env, installer, replace_conflicting, extras)\u001B[0m\n\u001B[0;32m    797\u001B[0m \u001B[38;5;28;01mif\u001B[39;00m dist \u001B[38;5;129;01mnot\u001B[39;00m \u001B[38;5;129;01min\u001B[39;00m req:\n\u001B[0;32m    798\u001B[0m     \u001B[38;5;66;03m# Oops, the \"best\" so far conflicts with a dependency\u001B[39;00m\n\u001B[0;32m    799\u001B[0m     dependent_req \u001B[38;5;241m=\u001B[39m required_by[req]\n\u001B[1;32m--> 800\u001B[0m     \u001B[38;5;28;01mraise\u001B[39;00m VersionConflict(dist, req)\u001B[38;5;241m.\u001B[39mwith_context(dependent_req)\n\u001B[0;32m    802\u001B[0m \u001B[38;5;66;03m# push the new requirements onto the stack\u001B[39;00m\n\u001B[0;32m    803\u001B[0m new_requirements \u001B[38;5;241m=\u001B[39m dist\u001B[38;5;241m.\u001B[39mrequires(req\u001B[38;5;241m.\u001B[39mextras)[::\u001B[38;5;241m-\u001B[39m\u001B[38;5;241m1\u001B[39m]\n",
      "\u001B[1;31mContextualVersionConflict\u001B[0m: (scipy 1.9.3 (c:\\nayef\\stats-notes\\.venv\\lib\\site-packages), Requirement.parse('scipy<1.8.0,>=1.7.3'), {'pymc3'})"
     ]
    }
   ],
   "source": [
    "import pymc3 as pm"
   ],
   "metadata": {
    "collapsed": false,
    "ExecuteTime": {
     "end_time": "2023-09-06T06:34:44.708927100Z",
     "start_time": "2023-09-06T06:34:35.229567900Z"
    }
   },
   "id": "e23e0746deb82a68"
  },
  {
   "cell_type": "code",
   "execution_count": null,
   "outputs": [],
   "source": [],
   "metadata": {
    "collapsed": false
   },
   "id": "c8730783dd34c9b"
  }
 ],
 "metadata": {
  "kernelspec": {
   "display_name": "Python 3",
   "language": "python",
   "name": "python3"
  },
  "language_info": {
   "codemirror_mode": {
    "name": "ipython",
    "version": 2
   },
   "file_extension": ".py",
   "mimetype": "text/x-python",
   "name": "python",
   "nbconvert_exporter": "python",
   "pygments_lexer": "ipython2",
   "version": "2.7.6"
  }
 },
 "nbformat": 4,
 "nbformat_minor": 5
}
